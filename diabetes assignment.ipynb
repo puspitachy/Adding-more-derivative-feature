{
 "cells": [
  {
   "cell_type": "code",
   "execution_count": 1,
   "id": "bddf84e6-e877-442e-a48d-45494fac8b60",
   "metadata": {},
   "outputs": [],
   "source": [
    "#import libraries and set defaults\n",
    "\n",
    "import numpy as np\n",
    "import pandas as pd\n",
    "\n",
    "import matplotlib.pyplot as plt\n",
    "\n",
    "from sklearn import datasets"
   ]
  },
  {
   "cell_type": "code",
   "execution_count": 2,
   "id": "d76db412-a6c0-458c-b322-99bcdc3cdbeb",
   "metadata": {},
   "outputs": [
    {
     "name": "stdout",
     "output_type": "stream",
     "text": [
      ".. _diabetes_dataset:\n",
      "\n",
      "Diabetes dataset\n",
      "----------------\n",
      "\n",
      "Ten baseline variables, age, sex, body mass index, average blood\n",
      "pressure, and six blood serum measurements were obtained for each of n =\n",
      "442 diabetes patients, as well as the response of interest, a\n",
      "quantitative measure of disease progression one year after baseline.\n",
      "\n",
      "**Data Set Characteristics:**\n",
      "\n",
      ":Number of Instances: 442\n",
      "\n",
      ":Number of Attributes: First 10 columns are numeric predictive values\n",
      "\n",
      ":Target: Column 11 is a quantitative measure of disease progression one year after baseline\n",
      "\n",
      ":Attribute Information:\n",
      "    - age     age in years\n",
      "    - sex\n",
      "    - bmi     body mass index\n",
      "    - bp      average blood pressure\n",
      "    - s1      tc, total serum cholesterol\n",
      "    - s2      ldl, low-density lipoproteins\n",
      "    - s3      hdl, high-density lipoproteins\n",
      "    - s4      tch, total cholesterol / HDL\n",
      "    - s5      ltg, possibly log of serum triglycerides level\n",
      "    - s6      glu, blood sugar level\n",
      "\n",
      "Note: Each of these 10 feature variables have been mean centered and scaled by the standard deviation times the square root of `n_samples` (i.e. the sum of squares of each column totals 1).\n",
      "\n",
      "Source URL:\n",
      "https://www4.stat.ncsu.edu/~boos/var.select/diabetes.html\n",
      "\n",
      "For more information see:\n",
      "Bradley Efron, Trevor Hastie, Iain Johnstone and Robert Tibshirani (2004) \"Least Angle Regression,\" Annals of Statistics (with discussion), 407-499.\n",
      "(https://web.stanford.edu/~hastie/Papers/LARS/LeastAngle_2002.pdf)\n",
      "\n"
     ]
    }
   ],
   "source": [
    "# Load the diabetes dataset\n",
    "diabetes = datasets.load_diabetes(as_frame=True)\n",
    "print(diabetes.DESCR)"
   ]
  },
  {
   "cell_type": "code",
   "execution_count": 6,
   "id": "eae460c3-7de9-4ca4-b3d2-8ca0d6fde72a",
   "metadata": {},
   "outputs": [
    {
     "name": "stdout",
     "output_type": "stream",
     "text": [
      "Diabetis Dataset shape: (442, 10)\n",
      "First 5 rows of features:\n",
      "         age       sex       bmi        bp        s1        s2        s3  \\\n",
      "0  0.038076  0.050680  0.061696  0.021872 -0.044223 -0.034821 -0.043401   \n",
      "1 -0.001882 -0.044642 -0.051474 -0.026328 -0.008449 -0.019163  0.074412   \n",
      "2  0.085299  0.050680  0.044451 -0.005670 -0.045599 -0.034194 -0.032356   \n",
      "3 -0.089063 -0.044642 -0.011595 -0.036656  0.012191  0.024991 -0.036038   \n",
      "4  0.005383 -0.044642 -0.036385  0.021872  0.003935  0.015596  0.008142   \n",
      "\n",
      "         s4        s5        s6  \n",
      "0 -0.002592  0.019907 -0.017646  \n",
      "1 -0.039493 -0.068332 -0.092204  \n",
      "2 -0.002592  0.002861 -0.025930  \n",
      "3  0.034309  0.022688 -0.009362  \n",
      "4 -0.002592 -0.031988 -0.046641  \n"
     ]
    }
   ],
   "source": [
    "print(\"Diabetis Dataset shape:\", diabetes.data.shape)\n",
    "print(\"First 5 rows of features:\\n\", diabetes.data[:5])"
   ]
  },
  {
   "cell_type": "code",
   "execution_count": 24,
   "id": "39e2c341-b415-4ce3-87df-b58c46b0b366",
   "metadata": {},
   "outputs": [
    {
     "name": "stdout",
     "output_type": "stream",
     "text": [
      "New diabetis dataset shape with derived features: (442, 13)\n",
      "view dataset:\n",
      "         age       sex       bmi        bp        s1        s2        s3  \\\n",
      "0  0.038076  0.050680  0.061696  0.021872 -0.044223 -0.034821 -0.043401   \n",
      "1 -0.001882 -0.044642 -0.051474 -0.026328 -0.008449 -0.019163  0.074412   \n",
      "2  0.085299  0.050680  0.044451 -0.005670 -0.045599 -0.034194 -0.032356   \n",
      "3 -0.089063 -0.044642 -0.011595 -0.036656  0.012191  0.024991 -0.036038   \n",
      "4  0.005383 -0.044642 -0.036385  0.021872  0.003935  0.015596  0.008142   \n",
      "\n",
      "         s4        s5        s6    bmi_bp  age_squared   age_bmi  \n",
      "0 -0.002592  0.019907 -0.017646  0.001349     0.001450  0.002349  \n",
      "1 -0.039493 -0.068332 -0.092204  0.001355     0.000004  0.000097  \n",
      "2 -0.002592  0.002861 -0.025930 -0.000252     0.007276  0.003792  \n",
      "3  0.034309  0.022688 -0.009362  0.000425     0.007932  0.001033  \n",
      "4 -0.002592 -0.031988 -0.046641 -0.000796     0.000029 -0.000196  \n"
     ]
    }
   ],
   "source": [
    "#adding more derived features \n",
    "\n",
    "x = diabetes.data.copy()\n",
    "y = diabetes.target #target value\n",
    "\n",
    "# Derived features\n",
    "# obesity × blood pressure\n",
    "x[\"bmi_bp\"]       = x[\"bmi\"] * x[\"bp\"]\n",
    "# nonlinear age effect\n",
    "x[\"age_squared\"]  = x[\"age\"] ** 2   \n",
    "# interaction age × BMI\n",
    "x[\"age_bmi\"]      = x[\"age\"] * x[\"bmi\"]        \n",
    "\n",
    "\n",
    "print(\"New diabetis dataset shape with derived features:\", x.shape)\n",
    "print(\"view dataset:\\n\", x.head())\n"
   ]
  },
  {
   "cell_type": "code",
   "execution_count": 18,
   "id": "d15f8b98-7a15-4834-9c2e-f8f3d897322b",
   "metadata": {},
   "outputs": [],
   "source": [
    "from sklearn.model_selection import train_test_split, cross_val_score\n",
    "from sklearn.linear_model import LinearRegression\n",
    "from sklearn.metrics import r2_score, mean_squared_error\n",
    "\n",
    "# Train and test split 80% and 20%\n",
    "x_training, x_testing, y_training, y_testing = train_test_split(\n",
    "    x, y, test_size=0.2, random_state=42\n",
    ")\n"
   ]
  },
  {
   "cell_type": "code",
   "execution_count": 25,
   "id": "146af1e8-e85a-4f3d-b8dd-b361b11a6f3b",
   "metadata": {},
   "outputs": [],
   "source": [
    "# Baseline model (original 10 features only)\n",
    "main_column = diabetes.feature_names\n",
    "reg_base = LinearRegression().fit(x_training[main_column], y_training)\n",
    "y_prediction = reg_base.predict(x_testing[main_column])\n",
    "\n",
    "# Model with the derived features plus 3 new derived features\n",
    "reggression_new_model = LinearRegression().fit(x_training, y_training)\n",
    "y_prediction_n= reggression_new_model.predict(x_testing)"
   ]
  },
  {
   "cell_type": "code",
   "execution_count": 29,
   "id": "774c7b52-c32d-4fb6-8eb7-548250cf9368",
   "metadata": {},
   "outputs": [
    {
     "name": "stdout",
     "output_type": "stream",
     "text": [
      "Baseline R²: 0.45260276297191926\n",
      "Baseline MSE: 2900.1936284934823\n",
      "With adding 3 more derived features R²: 0.48501946113827377\n",
      "With adding 3 more derived features MSE: 2728.4450424222764\n"
     ]
    }
   ],
   "source": [
    "#  performance comparison\n",
    "\n",
    "print(\"Baseline R²:\", r2_score(y_testing, y_prediction))\n",
    "print(\"Baseline MSE:\", mean_squared_error(y_testing, y_prediction))\n",
    "print(\"With adding 3 more derived features R²:\", r2_score(y_testing, y_prediction_n))\n",
    "print(\"With adding 3 more derived features MSE:\", mean_squared_error(y_testing, y_prediction_n))\n"
   ]
  },
  {
   "cell_type": "code",
   "execution_count": 28,
   "id": "b2bb9671-3298-4004-bdd7-abf9f81b00a5",
   "metadata": {},
   "outputs": [
    {
     "name": "stdout",
     "output_type": "stream",
     "text": [
      "Original  mean R²: 0.4823164359086422\n",
      "With adding more  derived features mean R²: 0.4942641201642937\n"
     ]
    }
   ],
   "source": [
    "# Cross-validation checking\n",
    "cv_original = cross_val_score(LinearRegression(), diabetes.data, y, cv=5, scoring=\"r2\")\n",
    "cv_add  = cross_val_score(LinearRegression(), x,             y, cv=5, scoring=\"r2\")\n",
    "\n",
    "\n",
    "print(\"Original  mean R²:\", cv_original.mean())\n",
    "print(\"With adding more  derived features mean R²:\", cv_add.mean())"
   ]
  },
  {
   "cell_type": "raw",
   "id": "61f124bd-aafd-45c6-85a1-59e11215179d",
   "metadata": {},
   "source": [
    "1. [\"bmi_bp\"] = [\"bmi\"] * [\"bp\"]\n",
    "reason for using: \n",
    "\n",
    "\n",
    "Obesity (high BMI) and hypertension are both strong, independent risk factors for diabetes.\n",
    "If both are present the risk may be greater than the total risks alone (synergistic effects).\n",
    "The regression allows for the interaction of both factors combined: the effect of both obesity and hypertension."
   ]
  },
  {
   "cell_type": "raw",
   "id": "bcb058d9-6cc3-4cf9-b419-92d706aae9ca",
   "metadata": {},
   "source": [
    "2. [\"age_squared\"] = [\"age\"] ** 2\n",
    "reason for using: \n",
    "\n",
    "The risk of diabetes does not grow in a perfectly linear fashion with age.\n",
    "To put more context here, the risk is quite low in very young ages, increases slowly during mid-life and then the risk accelerates later in life.\n",
    "The age² variable allows our regression model to capture this nonlinear trend (in other words, the regression model will now include a curve vs only a line)."
   ]
  },
  {
   "cell_type": "raw",
   "id": "e5f779e4-0e68-4635-9c20-832e2e0bb619",
   "metadata": {},
   "source": [
    "3. [\"age_bmi\"] = [\"age\"] * [\"bmi\"]\n",
    "reason for using: \n",
    "\n",
    "The influence of obesity (BMI), through age might not be equal for all ages.\n",
    "For example,\n",
    "A high BMI young adult might not be at the same immediate risk at high BMI as an older adult.\n",
    "In older adults BMI can interact with the age-related decrease in metabolism. \n",
    "By defining the age × bmi interaction, the model can pick up how the impact of BMI changes with age."
   ]
  },
  {
   "cell_type": "raw",
   "id": "ef6e0c70-aa93-4b28-a65e-505418168760",
   "metadata": {},
   "source": [
    "In the current exercise, I made three derived features in the original diabetes dataset: BMI × BP (to try and capture the combined impact of obesity and blood pressure), age² (to create a model that reflects the nonlinear increase in risk with age), and age × BMI (to try to capture how the impact of obesity might change across ages). In comparing the models, upon reaching the baseline regression, I had the regression achieve an R² of 0.45 and the Mean Squared Error (MSE) of about 2900 for the test data and the developed features achieve an R² of 0.49 and MSE of about 2728. If we sum the results of the regression over 5-fold cross validation, the mean R² (baseline) of 0.48 is now mean R² (with derived features) of 0.49. The values demonstrate that including interactions and nonlinear transformations is a consistent strategy for improving predictive accuracy, and moreover, assure that derived features capture patterns in the data as feature interactions that a baseline feature alone could not portray."
   ]
  }
 ],
 "metadata": {
  "kernelspec": {
   "display_name": "Python (tf_env)",
   "language": "python",
   "name": "tf_env"
  },
  "language_info": {
   "codemirror_mode": {
    "name": "ipython",
    "version": 3
   },
   "file_extension": ".py",
   "mimetype": "text/x-python",
   "name": "python",
   "nbconvert_exporter": "python",
   "pygments_lexer": "ipython3",
   "version": "3.10.18"
  }
 },
 "nbformat": 4,
 "nbformat_minor": 5
}
